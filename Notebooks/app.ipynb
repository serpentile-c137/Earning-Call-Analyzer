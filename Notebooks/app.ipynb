{
 "cells": [
  {
   "cell_type": "code",
   "execution_count": 18,
   "id": "59be3095",
   "metadata": {},
   "outputs": [],
   "source": [
    "!pip install -q google-genai"
   ]
  },
  {
   "cell_type": "code",
   "execution_count": 29,
   "id": "5c4a6b54",
   "metadata": {},
   "outputs": [],
   "source": [
    "from google import genai\n",
    "from dotenv import load_dotenv\n",
    "import os\n",
    "import pathlib\n",
    "import httpx"
   ]
  },
  {
   "cell_type": "code",
   "execution_count": 51,
   "id": "85c1f21f",
   "metadata": {},
   "outputs": [],
   "source": [
    "# List all files in the directory in alphabetical order\n",
    "def list_files_alphabetically(directory_path: str):\n",
    "    files = [f for f in os.listdir(directory_path) if os.path.isfile(os.path.join(directory_path, f))]\n",
    "    return sorted(files)\n",
    "names = list_files_alphabetically('../Database')"
   ]
  },
  {
   "cell_type": "code",
   "execution_count": 52,
   "id": "046d389f",
   "metadata": {},
   "outputs": [
    {
     "data": {
      "text/plain": [
       "['Boeing (BA) Q1 2024.pdf',\n",
       " 'Boeing (BA) Q2 2024.pdf',\n",
       " 'Boeing (BA) Q3 2024.pdf',\n",
       " 'Boeing (BA) Q4 2024.pdf',\n",
       " 'Lockheed Martin (LMT) Q1 2024.pdf',\n",
       " 'Lockheed Martin (LMT) Q2 2024.pdf',\n",
       " 'Lockheed Martin (LMT) Q3 2024.pdf',\n",
       " 'Lockheed Martin (LMT) Q4 2024.pdf',\n",
       " 'Northrop Grumman (NOC) Q1 2024.pdf',\n",
       " 'Northrop Grumman (NOC) Q2 2024.pdf',\n",
       " 'Northrop Grumman (NOC) Q3 2024.pdf',\n",
       " 'Northrop Grumman (NOC) Q4 2024.pdf',\n",
       " 'RTX (RTX) Q1 2024.pdf',\n",
       " 'RTX (RTX) Q2 2024.pdf',\n",
       " 'RTX (RTX) Q3 2024.pdf',\n",
       " 'RTX (RTX) Q4 2024.pdf']"
      ]
     },
     "execution_count": 52,
     "metadata": {},
     "output_type": "execute_result"
    }
   ],
   "source": [
    "names"
   ]
  },
  {
   "cell_type": "code",
   "execution_count": 30,
   "id": "bdfc8eb5",
   "metadata": {},
   "outputs": [],
   "source": [
    "load_dotenv()\n",
    "os.environ['GOOGLE_API_KEY'] = os.getenv('GOOGLE_API_KEY', 'your-key-if-not-using-env')"
   ]
  },
  {
   "cell_type": "code",
   "execution_count": 38,
   "id": "78181562",
   "metadata": {},
   "outputs": [],
   "source": [
    "file_path = r'../Database/Boeing (BA) Q1 2024.pdf'"
   ]
  },
  {
   "cell_type": "code",
   "execution_count": null,
   "id": "a0d0e237",
   "metadata": {},
   "outputs": [],
   "source": [
    "# Use the API key from the environment variable\n",
    "client = genai.Client(api_key=os.environ['GOOGLE_API_KEY'])\n",
    "\n",
    "# Upload the PDF using the File API\n",
    "sample_file = client.files.upload(\n",
    "  file=file_path,\n",
    ")\n",
    "\n",
    "prompt = \"You are a financial analyst. Please summarize and provide executive summary of the Earnings call transcript.\"\n",
    "\n",
    "response = client.models.generate_content(\n",
    "  model=\"gemini-2.0-flash\",\n",
    "  contents=[sample_file, prompt])\n",
    "print(response.text)"
   ]
  },
  {
   "cell_type": "markdown",
   "id": "ead7ff1c",
   "metadata": {},
   "source": [
    "Okay, here's a summary and executive summary of the Boeing Q1 2024 Earnings Call Transcript:\n",
    "\n",
    "**Executive Summary:**\n",
    "\n",
    "Boeing's Q1 2024 earnings call focused heavily on addressing quality control issues and stabilizing production following the Alaska Airlines incident.  While Q1 results were impacted by lower 737 deliveries and related customer considerations, Boeing is prioritizing factory and supply chain stabilization over immediate production rate increases. Management emphasized the actions taken to improve quality, including increased inspections, reduced traveled work, and closer collaboration with Spirit AeroSystems. They aim to deliver most of their inventoried 737s and 787s by year-end, and remain committed to achieving a $10 billion free cash flow target, although potentially delayed to 2025/2026. Discussions regarding a potential acquisition of Spirit AeroSystems are ongoing, with a focus on factory stability. Boeing Defense & Space (BDS) showed sequential improvement, and Boeing Global Services (BGS) had a strong quarter.\n",
    "\n",
    "**Key Takeaways & Detailed Summary:**\n",
    "\n",
    "*   **Quality Focus:**  The Alaska Airlines incident served as a catalyst for significant changes in Boeing's approach to quality.  Actions include:\n",
    "    *   Increased inspections at Spirit AeroSystems (specifically in Wichita) before fuselages are shipped to Renton.\n",
    "    *   Moving inspection and rework teams to Wichita.\n",
    "    *   Reducing traveled work across assembly lines.\n",
    "    *   Employee engagement to gather ideas for improvement.\n",
    "    *   Working with the FAA on a 90-day quality action plan and engaging independent quality experts.\n",
    "\n",
    "*   **Production & Deliveries:**\n",
    "    *   737 production slowed below 38 per month in Q1 to incorporate quality improvements.  April deliveries are expected to be similar to February levels.\n",
    "    *   Aim to gradually increase production to 38 per month in the second half of the year, with rates beyond that point dependent on FAA approval.\n",
    "    *   787 production is being slowed near-term, with a plan to return to five per month later in the year. Target 10/month by 2026.\n",
    "    *   Continue to progress the 777X program with first delivery still expected in 2025.\n",
    "\n",
    "*   **Financial Performance & Outlook:**\n",
    "    *   Q1 revenue was $16.6 billion, down 8% year-over-year due to lower 737 deliveries.\n",
    "    *   Core loss per share was $1.13.\n",
    "    *   Free cash flow usage was $3.9 billion.\n",
    "    *   BCA (Boeing Commercial Airplanes) operating margin was -24.6%, impacted by lower deliveries and the 737-9 grounding.\n",
    "    *   BDS (Boeing Defense & Space) operating margin was 2.2%, showing sequential improvement.\n",
    "    *   BGS (Boeing Global Services) operating margin was a strong 18.2%.\n",
    "    *   2024 free cash flow outlook is still expected to be in the low single-digit billions.\n",
    "    *   Remaining committed to achieving $10 billion of free cash flow, but timeline may be extended into 2025/2026.\n",
    "    *   Focus on maintaining an investment-grade credit rating.\n",
    "\n",
    "*   **Spirit AeroSystems:**\n",
    "    *   Discussions are ongoing regarding a potential acquisition.\n",
    "    *   The focus is on ensuring factory stability at Spirit's facilities.\n",
    "    *   Advanced Spirit $425 million, expected to be repaid in Q3.\n",
    "    *   Airbus involvement in discussions.\n",
    "\n",
    "*   **Leadership Transition:**\n",
    "    *   CEO Dave Calhoun reiterated his intention to step down by the end of the year.\n",
    "    *   The board is actively engaged in the search for a successor.\n",
    "    *   Calhoun emphasized the need for the next leader to focus on long-term strategic decisions and getting development programs right.\n",
    "\n",
    "*   **BDS (Boeing Defense & Space):**\n",
    "    *   Booked $9 billion in orders during the quarter.\n",
    "    *   Working to retire risks associated with fixed-price development programs, like VC-25B, T-7, and MQ-25.\n",
    "\n",
    "**In essence, Boeing is currently prioritizing quality improvements and factory stabilization, accepting near-term financial impacts in the hope of establishing a more stable and predictable future for the company.**\n"
   ]
  },
  {
   "cell_type": "code",
   "execution_count": 43,
   "id": "1ba596fb",
   "metadata": {},
   "outputs": [],
   "source": [
    "def summarize_earnings_call(file_path: str, prompt: str = None) -> str:\n",
    "    if prompt is None:\n",
    "        prompt = \"You are a financial analyst. Please summarize and provide an executive summary of the earnings call transcript.\"\n",
    "\n",
    "    # Initialize Gemini client\n",
    "    client = genai.Client(api_key=os.environ['GOOGLE_API_KEY'])\n",
    "\n",
    "    # Upload the PDF file\n",
    "    uploaded_file = client.files.upload(file=file_path)\n",
    "\n",
    "    # Generate content using the model\n",
    "    response = client.models.generate_content(\n",
    "        model=\"gemini-2.0-flash\",\n",
    "        contents=[uploaded_file, prompt]\n",
    "    )\n",
    "\n",
    "    return response.text"
   ]
  },
  {
   "cell_type": "code",
   "execution_count": 48,
   "id": "0740951d",
   "metadata": {},
   "outputs": [
    {
     "name": "stdout",
     "output_type": "stream",
     "text": [
      "Okay, here's a summary and executive summary of the Boeing Q2 2024 Earnings Call Transcript:\n",
      "\n",
      "**Executive Summary:**\n",
      "\n",
      "Boeing's Q2 2024 earnings call highlighted ongoing recovery efforts with continued financial challenges, particularly in the defense sector. The company is focused on improving quality and stability in its production processes, especially for the 737 and 787 programs, which are progressing but facing supply chain constraints.  Leadership transitions were discussed, and the acquisition of Spirit AeroSystems is a key strategic move to regain more control over manufacturing and quality.  The outlook for cash flow remains challenging in the near term, with a larger-than-expected use of cash, but the company anticipates improvements as production and deliveries stabilize.\n",
      "\n",
      "**Summary:**\n",
      "\n",
      "*   **Leadership Transition:**  Boeing announced Kelly Ortberg as the new CEO, starting August 8th.  Dave Calhoun expressed confidence in this selection.\n",
      "\n",
      "*   **Focus on Quality and Safety:**  Boeing continues to emphasize improving its quality management systems, driven by the January accident and ongoing FAA oversight. Production rates are being deliberately managed to stabilize operations and reduce traveled work.\n",
      "\n",
      "*   **Commercial Airplanes (BCA):**  BCA delivered 92 airplanes in the quarter.\n",
      "    *The 737 program delivered 70 airplanes, with plans to increase production to 38 per month by year-end. Reactivated a third production line.\n",
      "    *The 787 program delivered nine airplanes, aiming to return to five per month by year-end.\n",
      "    *There's still focus to deliver the backlog of pre-2023 737 MAX aircraft.\n",
      "\n",
      "*   **Defense, Space & Security (BDS):**  BDS faced significant losses due to fixed-price development contracts.  Margins are expected to remain challenged in the near term.\n",
      "\n",
      "*   **Global Services (BGS):**  BGS continues to perform well, delivering strong results.\n",
      "\n",
      "*   **Financial Performance:**\n",
      "    *   Revenue was $16.9 billion, impacted by lower commercial deliveries and losses in defense.\n",
      "    *   Free cash flow was a usage of $4.3 billion.\n",
      "    *   The company expects a larger use of cash for the year due to commercial delivery slowdowns, defense losses, and working capital timing.\n",
      "    *   The third quarter is expected to also be a use of cash.\n",
      "\n",
      "*   **Spirit AeroSystems Acquisition:**  Boeing plans to acquire Spirit AeroSystems to improve control over manufacturing and quality. The transaction is expected to close in mid-2025.\n",
      "\n",
      "*   **Cash Flow and Liquidity:** The company emphasizes maintaining an investment-grade credit rating.\n",
      "    *Maintaining access to $10 billion of revolving credit facilities.\n",
      "\n",
      "*   **Supply Chain:** Continued focus on supply chain stability, managing supplier relationships, and supporting inventory levels.\n",
      "\n",
      "*   **777X Program:** Received type inspection authorization and began flight testing. First delivery is still expected in 2025.\n",
      "\n",
      "*   **Union Negotiations:** The company recognizes the ASK's will be high but are prepared to treat the employees well through the process and work hard to not have a strike.\n",
      "\n",
      "**In summary:** Boeing is still working through significant challenges, especially in its defense business and supply chain. The Spirit AeroSystems acquisition is a key strategic initiative. The company is prioritizing quality and safety improvements, but the financial turnaround will take time, with near-term cash flow pressures.\n",
      "\n"
     ]
    }
   ],
   "source": [
    "path = r'../Database/Boeing (BA) Q2 2024.pdf'\n",
    "summary = summarize_earnings_call(path)\n",
    "print(summary)"
   ]
  },
  {
   "cell_type": "code",
   "execution_count": 53,
   "id": "a7013b5a",
   "metadata": {},
   "outputs": [],
   "source": [
    "def stream_summary_from_pdf(file_path: str, prompt: str = None):\n",
    "\n",
    "    if prompt is None:\n",
    "        prompt = \"You are a financial analyst. Please summarize and provide an executive summary of the earnings call transcript.\"\n",
    "\n",
    "    # Initialize Gemini client\n",
    "    client = genai.Client(api_key=os.environ['GOOGLE_API_KEY'])\n",
    "\n",
    "    # Upload the PDF file\n",
    "    uploaded_file = client.files.upload(file=file_path)\n",
    "\n",
    "    # Stream the model response\n",
    "    response = client.models.generate_content_stream(\n",
    "        model=\"gemini-2.0-flash\",\n",
    "        contents=[uploaded_file, prompt]\n",
    "    )\n",
    "\n",
    "    # Process and print chunks\n",
    "    for chunk in response:\n",
    "        print(chunk.text, end=\"\", flush=True)"
   ]
  },
  {
   "cell_type": "code",
   "execution_count": 54,
   "id": "5c1dc266",
   "metadata": {},
   "outputs": [
    {
     "name": "stdout",
     "output_type": "stream",
     "text": [
      "Okay, here's a summary and executive summary of the Boeing Q2 2024 earnings call transcript:\n",
      "\n",
      "**Executive Summary:**\n",
      "\n",
      "Boeing's Q2 2024 earnings call painted a picture of a company in the midst of a recovery, but still facing significant challenges. While Commercial Airplanes is increasing production rates and addressing quality issues, Defense, Space & Security continues to struggle with fixed-price development program losses.  The planned acquisition of Spirit AeroSystems aims to improve quality control and supply chain stability. Cash flow remains a concern for the near term, with a larger use of cash expected this year, but the company anticipates improvement as deliveries increase. Leadership is changing with the appointment of Kelly Ortberg as CEO, but the company intends to avoid major upheavals, and focus on stability.\n",
      "\n",
      "**Key Takeaways:**\n",
      "\n",
      "*   **Leadership Transition:** Kelly Ortberg will become Boeing's CEO, replacing Dave Calhoun.\n",
      "*   **Commercial Airplanes (BCA):**\n",
      "    *   Focus on improving stability and quality.\n",
      "    *   737 production is increasing, with the third line reactivated in Renton.\n",
      "    *   Deliveries are expected to improve, reducing the backlog of planes built before 2023.\n",
      "    *   Progress on 777X certification with flight testing underway.\n",
      "*   **Boeing Defense, Space & Security (BDS):**\n",
      "    *   Continued losses on fixed-price development programs.\n",
      "    *   Focus on tighter underwriting standards for future contracts.\n",
      "    *   Core business remains solid with geopolitical threat supporting continued demand.\n",
      "*   **Boeing Global Services (BGS):**\n",
      "    *   Strong performance with solid margins and revenue growth.\n",
      "*   **Spirit AeroSystems Acquisition:**\n",
      "    *   Aim to improve quality control, supply chain stability, and manufacturing alignment.\n",
      "    *   Expected to close mid-2025.\n",
      "*   **Cash Flow:**\n",
      "    *   Larger use of cash expected for the year due to lower commercial deliveries and working capital timing.\n",
      "    *   Inventory will remain a near-term headwind as we prioritize supply chain stability to support future rate increases.\n",
      "    *   Third quarter expected to be another use of cash with better deliveries.\n",
      "    *   Expect to turn positive about a year after EIS as deliveries begin to ramp.\n",
      "*   **Financial Outlook:**\n",
      "    *   Investment-grade credit rating remains a top priority.\n",
      "    *   Liquidity will be monitored and supplemented as needed.\n",
      "*   **IAM Labor Negotiations:**\n",
      "    *   Company is committed to treating employees well and avoiding a strike.\n",
      "\n",
      "Let me know if you would like any of this information refined further!\n"
     ]
    }
   ],
   "source": [
    "path = r'../Database/Boeing (BA) Q2 2024.pdf'\n",
    "summary = summarize_earnings_call(path)\n",
    "print(summary)"
   ]
  },
  {
   "cell_type": "code",
   "execution_count": null,
   "id": "8d0a3662",
   "metadata": {},
   "outputs": [],
   "source": []
  }
 ],
 "metadata": {
  "kernelspec": {
   "display_name": "llms",
   "language": "python",
   "name": "python3"
  },
  "language_info": {
   "codemirror_mode": {
    "name": "ipython",
    "version": 3
   },
   "file_extension": ".py",
   "mimetype": "text/x-python",
   "name": "python",
   "nbconvert_exporter": "python",
   "pygments_lexer": "ipython3",
   "version": "3.11.11"
  }
 },
 "nbformat": 4,
 "nbformat_minor": 5
}
